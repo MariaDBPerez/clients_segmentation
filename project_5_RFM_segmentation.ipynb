{
 "cells": [
  {
   "cell_type": "markdown",
   "metadata": {},
   "source": [
    "# E-commerce site clients segmentation"
   ]
  },
  {
   "cell_type": "markdown",
   "metadata": {},
   "source": [
    "# Content\n",
    "- [Unpickling dataframes](#Unpickling-dataframes)\n",
    "- [Use of RFM method](#Use-of-RFM-method)\n",
    "- [Pickling dataframes](#Pickling-dataframes)"
   ]
  },
  {
   "cell_type": "code",
   "execution_count": 1,
   "metadata": {},
   "outputs": [],
   "source": [
    "import pandas as pd\n",
    "import numpy as np\n",
    "import matplotlib.pyplot as plt\n",
    "\n",
    "# Use seaborn style defaults and set the default figure size\n",
    "import seaborn as sns\n",
    "sns.set(rc={'figure.figsize':(11, 6)})"
   ]
  },
  {
   "cell_type": "markdown",
   "metadata": {},
   "source": [
    "## Unpickling dataframe"
   ]
  },
  {
   "cell_type": "markdown",
   "metadata": {},
   "source": [
    "After we pickled the dataframe, we have to unpickle it."
   ]
  },
  {
   "cell_type": "code",
   "execution_count": 2,
   "metadata": {},
   "outputs": [],
   "source": [
    "# To unpickle the dataframe\n",
    "\n",
    "new_df_for_segmentation_analysis = pd.read_pickle(\"./pickle_dataset_merged.pkl\")"
   ]
  },
  {
   "cell_type": "markdown",
   "metadata": {},
   "source": [
    "## Use of RFM method"
   ]
  },
  {
   "cell_type": "markdown",
   "metadata": {},
   "source": [
    "So far we have created a dataframe that contains the main indicators that we will use for our analysis. \n",
    "\n",
    "For the clients segmentation we will start by using a method called RFM, which is widely used for customer analysis in market research.\n",
    "\n",
    "**We will use the RFM method to compare the clients segmentation with other clustering methods, such as K-means.**\n",
    "\n",
    "**RFM** stands for the three dimensions:\n",
    "\n",
    "* **Recency** – How recently did the customer purchase?\n",
    "* **Frequency** – How often do they purchase?\n",
    "* **Monetary Value** – How much do they spend?\n",
    "\n",
    "See reference: https://en.wikipedia.org/wiki/RFM_(market_research)\n",
    "\n",
    "To compute the **Recency**, we will compute the number of days that has been since the a customer placed an order. The **frequency**  will be refered to the number of orders that a customer placed, and the **Monetary value** is the order payment value."
   ]
  },
  {
   "cell_type": "markdown",
   "metadata": {},
   "source": [
    "### Creation of RFM table"
   ]
  },
  {
   "cell_type": "code",
   "execution_count": 3,
   "metadata": {},
   "outputs": [],
   "source": [
    "rfm_df =  new_df_for_segmentation_analysis.copy()"
   ]
  },
  {
   "cell_type": "markdown",
   "metadata": {},
   "source": [
    "We already have the Frequence, which is the variable 'number_of_orders_for_a_customer'. Now we will compute the number of days that have past from a customer's last order placement. The monetary value is given by the variable 'payment_value'."
   ]
  },
  {
   "cell_type": "code",
   "execution_count": 4,
   "metadata": {},
   "outputs": [],
   "source": [
    "columns_for_rfm = ['order_id', 'customer_unique_id', 'median_number_of_orders_for_a_customer', 'order_purchase_timestamp', 'median_payment_value']"
   ]
  },
  {
   "cell_type": "code",
   "execution_count": 5,
   "metadata": {},
   "outputs": [],
   "source": [
    "rfm_df = rfm_df[columns_for_rfm]"
   ]
  },
  {
   "cell_type": "code",
   "execution_count": 6,
   "metadata": {},
   "outputs": [],
   "source": [
    "rfm_df['order_purchase_timestamp'] = pd.to_datetime(rfm_df['order_purchase_timestamp']).dt.date"
   ]
  },
  {
   "cell_type": "code",
   "execution_count": 7,
   "metadata": {},
   "outputs": [
    {
     "data": {
      "text/html": [
       "<div>\n",
       "<style scoped>\n",
       "    .dataframe tbody tr th:only-of-type {\n",
       "        vertical-align: middle;\n",
       "    }\n",
       "\n",
       "    .dataframe tbody tr th {\n",
       "        vertical-align: top;\n",
       "    }\n",
       "\n",
       "    .dataframe thead th {\n",
       "        text-align: right;\n",
       "    }\n",
       "</style>\n",
       "<table border=\"1\" class=\"dataframe\">\n",
       "  <thead>\n",
       "    <tr style=\"text-align: right;\">\n",
       "      <th></th>\n",
       "      <th>order_id</th>\n",
       "      <th>customer_unique_id</th>\n",
       "      <th>median_number_of_orders_for_a_customer</th>\n",
       "      <th>order_purchase_timestamp</th>\n",
       "      <th>median_payment_value</th>\n",
       "      <th>Recency</th>\n",
       "    </tr>\n",
       "  </thead>\n",
       "  <tbody>\n",
       "    <tr>\n",
       "      <th>0</th>\n",
       "      <td>e22acc9c116caa3f2b7121bbb380d08e</td>\n",
       "      <td>0000366f3b9a7992bf8c76cfdf3221e2</td>\n",
       "      <td>1.0</td>\n",
       "      <td>2018-05-10</td>\n",
       "      <td>141.90</td>\n",
       "      <td>111</td>\n",
       "    </tr>\n",
       "    <tr>\n",
       "      <th>1</th>\n",
       "      <td>3594e05a005ac4d06a72673270ef9ec9</td>\n",
       "      <td>0000b849f77a49e4a4ce2b2a4ca5be3f</td>\n",
       "      <td>1.0</td>\n",
       "      <td>2018-05-07</td>\n",
       "      <td>27.19</td>\n",
       "      <td>114</td>\n",
       "    </tr>\n",
       "    <tr>\n",
       "      <th>2</th>\n",
       "      <td>b33ec3b699337181488304f362a6b734</td>\n",
       "      <td>0000f46a3911fa3c0805444483337064</td>\n",
       "      <td>1.0</td>\n",
       "      <td>2017-03-10</td>\n",
       "      <td>86.22</td>\n",
       "      <td>537</td>\n",
       "    </tr>\n",
       "    <tr>\n",
       "      <th>3</th>\n",
       "      <td>41272756ecddd9a9ed0180413cc22fb6</td>\n",
       "      <td>0000f6ccb0745a6a4b88665a16c9f078</td>\n",
       "      <td>1.0</td>\n",
       "      <td>2017-10-12</td>\n",
       "      <td>43.62</td>\n",
       "      <td>321</td>\n",
       "    </tr>\n",
       "    <tr>\n",
       "      <th>4</th>\n",
       "      <td>d957021f1127559cd947b62533f484f7</td>\n",
       "      <td>0004aac84e0df4da2b147fca70cf8255</td>\n",
       "      <td>1.0</td>\n",
       "      <td>2017-11-14</td>\n",
       "      <td>196.89</td>\n",
       "      <td>288</td>\n",
       "    </tr>\n",
       "  </tbody>\n",
       "</table>\n",
       "</div>"
      ],
      "text/plain": [
       "                           order_id                customer_unique_id  \\\n",
       "0  e22acc9c116caa3f2b7121bbb380d08e  0000366f3b9a7992bf8c76cfdf3221e2   \n",
       "1  3594e05a005ac4d06a72673270ef9ec9  0000b849f77a49e4a4ce2b2a4ca5be3f   \n",
       "2  b33ec3b699337181488304f362a6b734  0000f46a3911fa3c0805444483337064   \n",
       "3  41272756ecddd9a9ed0180413cc22fb6  0000f6ccb0745a6a4b88665a16c9f078   \n",
       "4  d957021f1127559cd947b62533f484f7  0004aac84e0df4da2b147fca70cf8255   \n",
       "\n",
       "   median_number_of_orders_for_a_customer order_purchase_timestamp  \\\n",
       "0                                     1.0               2018-05-10   \n",
       "1                                     1.0               2018-05-07   \n",
       "2                                     1.0               2017-03-10   \n",
       "3                                     1.0               2017-10-12   \n",
       "4                                     1.0               2017-11-14   \n",
       "\n",
       "   median_payment_value  Recency  \n",
       "0                141.90      111  \n",
       "1                 27.19      114  \n",
       "2                 86.22      537  \n",
       "3                 43.62      321  \n",
       "4                196.89      288  "
      ]
     },
     "execution_count": 7,
     "metadata": {},
     "output_type": "execute_result"
    }
   ],
   "source": [
    "recent_date = rfm_df['order_purchase_timestamp'].max()\n",
    "rfm_df['Recency'] = rfm_df['order_purchase_timestamp'].apply(lambda x: (recent_date - x).days)\n",
    "rfm_df.head()"
   ]
  },
  {
   "cell_type": "code",
   "execution_count": 8,
   "metadata": {},
   "outputs": [],
   "source": [
    "rfm_df.rename(columns={'median_number_of_orders_for_a_customer': 'Frequency',\n",
    "                        'median_payment_value': 'Monetary_value'}, inplace=True)"
   ]
  },
  {
   "cell_type": "code",
   "execution_count": 9,
   "metadata": {},
   "outputs": [
    {
     "data": {
      "text/html": [
       "<div>\n",
       "<style scoped>\n",
       "    .dataframe tbody tr th:only-of-type {\n",
       "        vertical-align: middle;\n",
       "    }\n",
       "\n",
       "    .dataframe tbody tr th {\n",
       "        vertical-align: top;\n",
       "    }\n",
       "\n",
       "    .dataframe thead th {\n",
       "        text-align: right;\n",
       "    }\n",
       "</style>\n",
       "<table border=\"1\" class=\"dataframe\">\n",
       "  <thead>\n",
       "    <tr style=\"text-align: right;\">\n",
       "      <th></th>\n",
       "      <th>customer_unique_id</th>\n",
       "      <th>Frequency</th>\n",
       "      <th>Monetary_value</th>\n",
       "      <th>Recency</th>\n",
       "    </tr>\n",
       "  </thead>\n",
       "  <tbody>\n",
       "    <tr>\n",
       "      <th>0</th>\n",
       "      <td>0000366f3b9a7992bf8c76cfdf3221e2</td>\n",
       "      <td>1.0</td>\n",
       "      <td>141.90</td>\n",
       "      <td>111</td>\n",
       "    </tr>\n",
       "    <tr>\n",
       "      <th>1</th>\n",
       "      <td>0000b849f77a49e4a4ce2b2a4ca5be3f</td>\n",
       "      <td>1.0</td>\n",
       "      <td>27.19</td>\n",
       "      <td>114</td>\n",
       "    </tr>\n",
       "    <tr>\n",
       "      <th>2</th>\n",
       "      <td>0000f46a3911fa3c0805444483337064</td>\n",
       "      <td>1.0</td>\n",
       "      <td>86.22</td>\n",
       "      <td>537</td>\n",
       "    </tr>\n",
       "    <tr>\n",
       "      <th>3</th>\n",
       "      <td>0000f6ccb0745a6a4b88665a16c9f078</td>\n",
       "      <td>1.0</td>\n",
       "      <td>43.62</td>\n",
       "      <td>321</td>\n",
       "    </tr>\n",
       "    <tr>\n",
       "      <th>4</th>\n",
       "      <td>0004aac84e0df4da2b147fca70cf8255</td>\n",
       "      <td>1.0</td>\n",
       "      <td>196.89</td>\n",
       "      <td>288</td>\n",
       "    </tr>\n",
       "  </tbody>\n",
       "</table>\n",
       "</div>"
      ],
      "text/plain": [
       "                 customer_unique_id  Frequency  Monetary_value  Recency\n",
       "0  0000366f3b9a7992bf8c76cfdf3221e2        1.0          141.90      111\n",
       "1  0000b849f77a49e4a4ce2b2a4ca5be3f        1.0           27.19      114\n",
       "2  0000f46a3911fa3c0805444483337064        1.0           86.22      537\n",
       "3  0000f6ccb0745a6a4b88665a16c9f078        1.0           43.62      321\n",
       "4  0004aac84e0df4da2b147fca70cf8255        1.0          196.89      288"
      ]
     },
     "execution_count": 9,
     "metadata": {},
     "output_type": "execute_result"
    }
   ],
   "source": [
    "rfm_df = rfm_df.drop(columns=['order_id', 'order_purchase_timestamp'])\n",
    "rfm_df.head()"
   ]
  },
  {
   "cell_type": "code",
   "execution_count": 10,
   "metadata": {},
   "outputs": [
    {
     "data": {
      "image/png": "[encoded data removed]",
      "text/plain": [
       "<Figure size 504x576 with 1 Axes>"
      ]
     },
     "metadata": {},
     "output_type": "display_data"
    },
    {
     "data": {
      "image/png": "[encoded data removed]",
      "text/plain": [
       "<Figure size 792x432 with 1 Axes>"
      ]
     },
     "metadata": {},
     "output_type": "display_data"
    },
    {
     "data": {
      "image/png": "[encoded data removed]",
      "text/plain": [
       "<Figure size 792x432 with 1 Axes>"
      ]
     },
     "metadata": {},
     "output_type": "display_data"
    }
   ],
   "source": [
    "plt.subplots(figsize=(7, 8))\n",
    "\n",
    "columns_histogram=['Frequency', 'Monetary_value', 'Recency']\n",
    "\n",
    "for i in rfm_df.columns:\n",
    "    if i in columns_histogram:\n",
    "        sns.histplot(data=rfm_df, x=i, color=\"blue\")\n",
    "        plt.show()"
   ]
  },
  {
   "cell_type": "markdown",
   "metadata": {},
   "source": [
    "### Heuristic RFM"
   ]
  },
  {
   "cell_type": "markdown",
   "metadata": {},
   "source": [
    "In business analytics, we often use this concept to divide customers into different segments, like high-value customers, medium value customers or low-value customers, and similarly many others.\n",
    "\n",
    "See reference: https://www.geeksforgeeks.org/rfm-analysis-analysis-using-python/\n",
    "\n",
    "In the RFM method, we need to create a score with is based in heuristic rules where **R + F + M = RFM Score**. This is, it depends on the company's rules. For example, a company can give more priority to the Monetary Value. This is used as a rule to compute the RFM Score. So in general, we multiply the terms R, F and M by constant a,b and c, to determine depending on the priorities of the company.\n",
    "\n",
    "For example:\n",
    "\n",
    "**a(Recency) + b(Frequency) + c(Monetary Value) = RFM Score**\n",
    "\n",
    "Rating Customer based upon the RFM Score:\n",
    "\n",
    "* RFM Score = 5: Top customer\n",
    "* RMF Score = 4: High value customer\n",
    "* RMF Score = 3: Medium value customer\n",
    "* RMF Score = 2: Low-value customer\n",
    "* RMF Score = 1: Lost customer"
   ]
  },
  {
   "cell_type": "markdown",
   "metadata": {},
   "source": [
    "#### Ranking customers based on their Recency, Frequency, and Monetary value"
   ]
  },
  {
   "cell_type": "markdown",
   "metadata": {},
   "source": [
    "We will normalize the rank of the customers to analyze the ranking."
   ]
  },
  {
   "cell_type": "code",
   "execution_count": 11,
   "metadata": {},
   "outputs": [],
   "source": [
    "rfm_df_heuristic_method = rfm_df.copy()"
   ]
  },
  {
   "cell_type": "code",
   "execution_count": 12,
   "metadata": {},
   "outputs": [],
   "source": [
    "# max: highest rank in the group\n",
    "# https://pandas.pydata.org/docs/reference/api/pandas.DataFrame.rank.html\n",
    "\n",
    "rfm_df_heuristic_method['R_rank'] = rfm_df_heuristic_method['Recency'].rank(ascending=False)\n",
    "rfm_df_heuristic_method['F_rank'] = rfm_df_heuristic_method['Frequency'].rank(ascending=True)\n",
    "rfm_df_heuristic_method['M_rank'] = rfm_df_heuristic_method['Monetary_value'].rank(ascending=True)"
   ]
  },
  {
   "cell_type": "code",
   "execution_count": 13,
   "metadata": {},
   "outputs": [
    {
     "data": {
      "text/html": [
       "<div>\n",
       "<style scoped>\n",
       "    .dataframe tbody tr th:only-of-type {\n",
       "        vertical-align: middle;\n",
       "    }\n",
       "\n",
       "    .dataframe tbody tr th {\n",
       "        vertical-align: top;\n",
       "    }\n",
       "\n",
       "    .dataframe thead th {\n",
       "        text-align: right;\n",
       "    }\n",
       "</style>\n",
       "<table border=\"1\" class=\"dataframe\">\n",
       "  <thead>\n",
       "    <tr style=\"text-align: right;\">\n",
       "      <th></th>\n",
       "      <th>customer_unique_id</th>\n",
       "      <th>Frequency</th>\n",
       "      <th>Monetary_value</th>\n",
       "      <th>Recency</th>\n",
       "      <th>R_rank</th>\n",
       "      <th>F_rank</th>\n",
       "      <th>M_rank</th>\n",
       "      <th>R_rank_norm</th>\n",
       "      <th>F_rank_norm</th>\n",
       "      <th>M_rank_norm</th>\n",
       "    </tr>\n",
       "  </thead>\n",
       "  <tbody>\n",
       "    <tr>\n",
       "      <th>0</th>\n",
       "      <td>0000366f3b9a7992bf8c76cfdf3221e2</td>\n",
       "      <td>1.0</td>\n",
       "      <td>141.90</td>\n",
       "      <td>111</td>\n",
       "      <td>71146.5</td>\n",
       "      <td>45211.0</td>\n",
       "      <td>60913.0</td>\n",
       "      <td>0.761813</td>\n",
       "      <td>0.484079</td>\n",
       "      <td>0.484079</td>\n",
       "    </tr>\n",
       "    <tr>\n",
       "      <th>1</th>\n",
       "      <td>0000b849f77a49e4a4ce2b2a4ca5be3f</td>\n",
       "      <td>1.0</td>\n",
       "      <td>27.19</td>\n",
       "      <td>114</td>\n",
       "      <td>70195.0</td>\n",
       "      <td>45211.0</td>\n",
       "      <td>2794.5</td>\n",
       "      <td>0.751625</td>\n",
       "      <td>0.484079</td>\n",
       "      <td>0.484079</td>\n",
       "    </tr>\n",
       "    <tr>\n",
       "      <th>2</th>\n",
       "      <td>0000f46a3911fa3c0805444483337064</td>\n",
       "      <td>1.0</td>\n",
       "      <td>86.22</td>\n",
       "      <td>537</td>\n",
       "      <td>3364.5</td>\n",
       "      <td>45211.0</td>\n",
       "      <td>38609.5</td>\n",
       "      <td>0.036026</td>\n",
       "      <td>0.484079</td>\n",
       "      <td>0.484079</td>\n",
       "    </tr>\n",
       "    <tr>\n",
       "      <th>3</th>\n",
       "      <td>0000f6ccb0745a6a4b88665a16c9f078</td>\n",
       "      <td>1.0</td>\n",
       "      <td>43.62</td>\n",
       "      <td>321</td>\n",
       "      <td>27041.5</td>\n",
       "      <td>45211.0</td>\n",
       "      <td>12633.0</td>\n",
       "      <td>0.289551</td>\n",
       "      <td>0.484079</td>\n",
       "      <td>0.484079</td>\n",
       "    </tr>\n",
       "    <tr>\n",
       "      <th>4</th>\n",
       "      <td>0004aac84e0df4da2b147fca70cf8255</td>\n",
       "      <td>1.0</td>\n",
       "      <td>196.89</td>\n",
       "      <td>288</td>\n",
       "      <td>31754.0</td>\n",
       "      <td>45211.0</td>\n",
       "      <td>74138.5</td>\n",
       "      <td>0.340011</td>\n",
       "      <td>0.484079</td>\n",
       "      <td>0.484079</td>\n",
       "    </tr>\n",
       "  </tbody>\n",
       "</table>\n",
       "</div>"
      ],
      "text/plain": [
       "                 customer_unique_id  Frequency  Monetary_value  Recency  \\\n",
       "0  0000366f3b9a7992bf8c76cfdf3221e2        1.0          141.90      111   \n",
       "1  0000b849f77a49e4a4ce2b2a4ca5be3f        1.0           27.19      114   \n",
       "2  0000f46a3911fa3c0805444483337064        1.0           86.22      537   \n",
       "3  0000f6ccb0745a6a4b88665a16c9f078        1.0           43.62      321   \n",
       "4  0004aac84e0df4da2b147fca70cf8255        1.0          196.89      288   \n",
       "\n",
       "    R_rank   F_rank   M_rank  R_rank_norm  F_rank_norm  M_rank_norm  \n",
       "0  71146.5  45211.0  60913.0     0.761813     0.484079     0.484079  \n",
       "1  70195.0  45211.0   2794.5     0.751625     0.484079     0.484079  \n",
       "2   3364.5  45211.0  38609.5     0.036026     0.484079     0.484079  \n",
       "3  27041.5  45211.0  12633.0     0.289551     0.484079     0.484079  \n",
       "4  31754.0  45211.0  74138.5     0.340011     0.484079     0.484079  "
      ]
     },
     "execution_count": 13,
     "metadata": {},
     "output_type": "execute_result"
    }
   ],
   "source": [
    "# normalizing the rank of the customers \n",
    "\n",
    "rfm_df_heuristic_method['R_rank_norm'] = (rfm_df_heuristic_method['R_rank']/rfm_df_heuristic_method['R_rank'].max())\n",
    "rfm_df_heuristic_method['F_rank_norm'] = (rfm_df_heuristic_method['F_rank']/rfm_df_heuristic_method['F_rank'].max())\n",
    "rfm_df_heuristic_method['M_rank_norm'] = (rfm_df_heuristic_method['F_rank']/rfm_df_heuristic_method['M_rank'].max())\n",
    "\n",
    "rfm_df_heuristic_method.head()"
   ]
  },
  {
   "cell_type": "code",
   "execution_count": 14,
   "metadata": {},
   "outputs": [
    {
     "data": {
      "text/html": [
       "<div>\n",
       "<style scoped>\n",
       "    .dataframe tbody tr th:only-of-type {\n",
       "        vertical-align: middle;\n",
       "    }\n",
       "\n",
       "    .dataframe tbody tr th {\n",
       "        vertical-align: top;\n",
       "    }\n",
       "\n",
       "    .dataframe thead th {\n",
       "        text-align: right;\n",
       "    }\n",
       "</style>\n",
       "<table border=\"1\" class=\"dataframe\">\n",
       "  <thead>\n",
       "    <tr style=\"text-align: right;\">\n",
       "      <th></th>\n",
       "      <th>Frequency</th>\n",
       "      <th>Monetary_value</th>\n",
       "      <th>Recency</th>\n",
       "      <th>R_rank</th>\n",
       "      <th>F_rank</th>\n",
       "      <th>M_rank</th>\n",
       "      <th>R_rank_norm</th>\n",
       "      <th>F_rank_norm</th>\n",
       "      <th>M_rank_norm</th>\n",
       "    </tr>\n",
       "  </thead>\n",
       "  <tbody>\n",
       "    <tr>\n",
       "      <th>count</th>\n",
       "      <td>93396.000000</td>\n",
       "      <td>93396.000000</td>\n",
       "      <td>93396.000000</td>\n",
       "      <td>93396.000000</td>\n",
       "      <td>93396.000000</td>\n",
       "      <td>93396.00000</td>\n",
       "      <td>93396.000000</td>\n",
       "      <td>93396.000000</td>\n",
       "      <td>93396.000000</td>\n",
       "    </tr>\n",
       "    <tr>\n",
       "      <th>mean</th>\n",
       "      <td>1.035569</td>\n",
       "      <td>158.582579</td>\n",
       "      <td>238.918605</td>\n",
       "      <td>46698.500000</td>\n",
       "      <td>46698.500000</td>\n",
       "      <td>46698.50000</td>\n",
       "      <td>0.500032</td>\n",
       "      <td>0.500005</td>\n",
       "      <td>0.500005</td>\n",
       "    </tr>\n",
       "    <tr>\n",
       "      <th>std</th>\n",
       "      <td>0.216802</td>\n",
       "      <td>217.640857</td>\n",
       "      <td>153.395032</td>\n",
       "      <td>26961.159358</td>\n",
       "      <td>8201.023739</td>\n",
       "      <td>26961.24616</td>\n",
       "      <td>0.288691</td>\n",
       "      <td>0.087809</td>\n",
       "      <td>0.087809</td>\n",
       "    </tr>\n",
       "    <tr>\n",
       "      <th>min</th>\n",
       "      <td>1.000000</td>\n",
       "      <td>0.250000</td>\n",
       "      <td>0.000000</td>\n",
       "      <td>1.000000</td>\n",
       "      <td>45211.000000</td>\n",
       "      <td>1.00000</td>\n",
       "      <td>0.000011</td>\n",
       "      <td>0.484079</td>\n",
       "      <td>0.484079</td>\n",
       "    </tr>\n",
       "    <tr>\n",
       "      <th>25%</th>\n",
       "      <td>1.000000</td>\n",
       "      <td>60.750000</td>\n",
       "      <td>114.000000</td>\n",
       "      <td>23303.500000</td>\n",
       "      <td>45211.000000</td>\n",
       "      <td>23355.00000</td>\n",
       "      <td>0.249526</td>\n",
       "      <td>0.484079</td>\n",
       "      <td>0.484079</td>\n",
       "    </tr>\n",
       "    <tr>\n",
       "      <th>50%</th>\n",
       "      <td>1.000000</td>\n",
       "      <td>103.550000</td>\n",
       "      <td>219.000000</td>\n",
       "      <td>46781.500000</td>\n",
       "      <td>45211.000000</td>\n",
       "      <td>46676.50000</td>\n",
       "      <td>0.500921</td>\n",
       "      <td>0.484079</td>\n",
       "      <td>0.484079</td>\n",
       "    </tr>\n",
       "    <tr>\n",
       "      <th>75%</th>\n",
       "      <td>1.000000</td>\n",
       "      <td>175.572500</td>\n",
       "      <td>349.000000</td>\n",
       "      <td>70195.000000</td>\n",
       "      <td>45211.000000</td>\n",
       "      <td>70046.50000</td>\n",
       "      <td>0.751625</td>\n",
       "      <td>0.484079</td>\n",
       "      <td>0.484079</td>\n",
       "    </tr>\n",
       "    <tr>\n",
       "      <th>max</th>\n",
       "      <td>17.000000</td>\n",
       "      <td>13664.080000</td>\n",
       "      <td>724.000000</td>\n",
       "      <td>93391.000000</td>\n",
       "      <td>93396.000000</td>\n",
       "      <td>93396.00000</td>\n",
       "      <td>1.000000</td>\n",
       "      <td>1.000000</td>\n",
       "      <td>1.000000</td>\n",
       "    </tr>\n",
       "  </tbody>\n",
       "</table>\n",
       "</div>"
      ],
      "text/plain": [
       "          Frequency  Monetary_value       Recency        R_rank        F_rank  \\\n",
       "count  93396.000000    93396.000000  93396.000000  93396.000000  93396.000000   \n",
       "mean       1.035569      158.582579    238.918605  46698.500000  46698.500000   \n",
       "std        0.216802      217.640857    153.395032  26961.159358   8201.023739   \n",
       "min        1.000000        0.250000      0.000000      1.000000  45211.000000   \n",
       "25%        1.000000       60.750000    114.000000  23303.500000  45211.000000   \n",
       "50%        1.000000      103.550000    219.000000  46781.500000  45211.000000   \n",
       "75%        1.000000      175.572500    349.000000  70195.000000  45211.000000   \n",
       "max       17.000000    13664.080000    724.000000  93391.000000  93396.000000   \n",
       "\n",
       "            M_rank   R_rank_norm   F_rank_norm   M_rank_norm  \n",
       "count  93396.00000  93396.000000  93396.000000  93396.000000  \n",
       "mean   46698.50000      0.500032      0.500005      0.500005  \n",
       "std    26961.24616      0.288691      0.087809      0.087809  \n",
       "min        1.00000      0.000011      0.484079      0.484079  \n",
       "25%    23355.00000      0.249526      0.484079      0.484079  \n",
       "50%    46676.50000      0.500921      0.484079      0.484079  \n",
       "75%    70046.50000      0.751625      0.484079      0.484079  \n",
       "max    93396.00000      1.000000      1.000000      1.000000  "
      ]
     },
     "execution_count": 14,
     "metadata": {},
     "output_type": "execute_result"
    }
   ],
   "source": [
    "rfm_df_heuristic_method.describe()"
   ]
  },
  {
   "cell_type": "markdown",
   "metadata": {},
   "source": [
    "#### Calculating RFM score"
   ]
  },
  {
   "cell_type": "markdown",
   "metadata": {},
   "source": [
    "As we previously mentioned, we need to create a score with is based in heuristic rules where **R + F + M = RFM Score**. Based on this score, we will segment the customers.\n",
    "\n",
    "We will use the rule:\n",
    "\n",
    "**40(Recency) + 40(Frequency) + 20(Monetary Value) = RFM Score**\n",
    "\n",
    "Here we give equally importance to the Recency and the Frequency, this is, to those customers who recently placed orders and bought more than one product in an order. Then, we gave less importance to the Monetary value. "
   ]
  },
  {
   "cell_type": "code",
   "execution_count": 15,
   "metadata": {},
   "outputs": [
    {
     "data": {
      "text/html": [
       "<div>\n",
       "<style scoped>\n",
       "    .dataframe tbody tr th:only-of-type {\n",
       "        vertical-align: middle;\n",
       "    }\n",
       "\n",
       "    .dataframe tbody tr th {\n",
       "        vertical-align: top;\n",
       "    }\n",
       "\n",
       "    .dataframe thead th {\n",
       "        text-align: right;\n",
       "    }\n",
       "</style>\n",
       "<table border=\"1\" class=\"dataframe\">\n",
       "  <thead>\n",
       "    <tr style=\"text-align: right;\">\n",
       "      <th></th>\n",
       "      <th>customer_unique_id</th>\n",
       "      <th>Frequency</th>\n",
       "      <th>Monetary_value</th>\n",
       "      <th>Recency</th>\n",
       "      <th>R_rank</th>\n",
       "      <th>F_rank</th>\n",
       "      <th>M_rank</th>\n",
       "      <th>R_rank_norm</th>\n",
       "      <th>F_rank_norm</th>\n",
       "      <th>M_rank_norm</th>\n",
       "      <th>RFM_Score</th>\n",
       "    </tr>\n",
       "  </thead>\n",
       "  <tbody>\n",
       "    <tr>\n",
       "      <th>0</th>\n",
       "      <td>0000366f3b9a7992bf8c76cfdf3221e2</td>\n",
       "      <td>1.0</td>\n",
       "      <td>142.0</td>\n",
       "      <td>111</td>\n",
       "      <td>71146.0</td>\n",
       "      <td>45211.0</td>\n",
       "      <td>60913.0</td>\n",
       "      <td>1.0</td>\n",
       "      <td>0.0</td>\n",
       "      <td>0.0</td>\n",
       "      <td>3.0</td>\n",
       "    </tr>\n",
       "    <tr>\n",
       "      <th>1</th>\n",
       "      <td>0000b849f77a49e4a4ce2b2a4ca5be3f</td>\n",
       "      <td>1.0</td>\n",
       "      <td>27.0</td>\n",
       "      <td>114</td>\n",
       "      <td>70195.0</td>\n",
       "      <td>45211.0</td>\n",
       "      <td>2794.0</td>\n",
       "      <td>1.0</td>\n",
       "      <td>0.0</td>\n",
       "      <td>0.0</td>\n",
       "      <td>3.0</td>\n",
       "    </tr>\n",
       "    <tr>\n",
       "      <th>2</th>\n",
       "      <td>0000f46a3911fa3c0805444483337064</td>\n",
       "      <td>1.0</td>\n",
       "      <td>86.0</td>\n",
       "      <td>537</td>\n",
       "      <td>3364.0</td>\n",
       "      <td>45211.0</td>\n",
       "      <td>38610.0</td>\n",
       "      <td>0.0</td>\n",
       "      <td>0.0</td>\n",
       "      <td>0.0</td>\n",
       "      <td>2.0</td>\n",
       "    </tr>\n",
       "    <tr>\n",
       "      <th>3</th>\n",
       "      <td>0000f6ccb0745a6a4b88665a16c9f078</td>\n",
       "      <td>1.0</td>\n",
       "      <td>44.0</td>\n",
       "      <td>321</td>\n",
       "      <td>27042.0</td>\n",
       "      <td>45211.0</td>\n",
       "      <td>12633.0</td>\n",
       "      <td>0.0</td>\n",
       "      <td>0.0</td>\n",
       "      <td>0.0</td>\n",
       "      <td>2.0</td>\n",
       "    </tr>\n",
       "    <tr>\n",
       "      <th>4</th>\n",
       "      <td>0004aac84e0df4da2b147fca70cf8255</td>\n",
       "      <td>1.0</td>\n",
       "      <td>197.0</td>\n",
       "      <td>288</td>\n",
       "      <td>31754.0</td>\n",
       "      <td>45211.0</td>\n",
       "      <td>74138.0</td>\n",
       "      <td>0.0</td>\n",
       "      <td>0.0</td>\n",
       "      <td>0.0</td>\n",
       "      <td>2.0</td>\n",
       "    </tr>\n",
       "  </tbody>\n",
       "</table>\n",
       "</div>"
      ],
      "text/plain": [
       "                 customer_unique_id  Frequency  Monetary_value  Recency  \\\n",
       "0  0000366f3b9a7992bf8c76cfdf3221e2        1.0           142.0      111   \n",
       "1  0000b849f77a49e4a4ce2b2a4ca5be3f        1.0            27.0      114   \n",
       "2  0000f46a3911fa3c0805444483337064        1.0            86.0      537   \n",
       "3  0000f6ccb0745a6a4b88665a16c9f078        1.0            44.0      321   \n",
       "4  0004aac84e0df4da2b147fca70cf8255        1.0           197.0      288   \n",
       "\n",
       "    R_rank   F_rank   M_rank  R_rank_norm  F_rank_norm  M_rank_norm  RFM_Score  \n",
       "0  71146.0  45211.0  60913.0          1.0          0.0          0.0        3.0  \n",
       "1  70195.0  45211.0   2794.0          1.0          0.0          0.0        3.0  \n",
       "2   3364.0  45211.0  38610.0          0.0          0.0          0.0        2.0  \n",
       "3  27042.0  45211.0  12633.0          0.0          0.0          0.0        2.0  \n",
       "4  31754.0  45211.0  74138.0          0.0          0.0          0.0        2.0  "
      ]
     },
     "execution_count": 15,
     "metadata": {},
     "output_type": "execute_result"
    }
   ],
   "source": [
    "rfm_df_heuristic_method['RFM_Score'] = 40*rfm_df_heuristic_method['R_rank_norm'] + 40*rfm_df_heuristic_method['F_rank_norm'] + 20*rfm_df_heuristic_method['M_rank_norm']\n",
    "rfm_df_heuristic_method['RFM_Score'] *= 0.05\n",
    "rfm_df_heuristic_method = rfm_df_heuristic_method.round(0)\n",
    "rfm_df_heuristic_method.head()"
   ]
  },
  {
   "cell_type": "code",
   "execution_count": 16,
   "metadata": {},
   "outputs": [
    {
     "data": {
      "text/html": [
       "<div>\n",
       "<style scoped>\n",
       "    .dataframe tbody tr th:only-of-type {\n",
       "        vertical-align: middle;\n",
       "    }\n",
       "\n",
       "    .dataframe tbody tr th {\n",
       "        vertical-align: top;\n",
       "    }\n",
       "\n",
       "    .dataframe thead th {\n",
       "        text-align: right;\n",
       "    }\n",
       "</style>\n",
       "<table border=\"1\" class=\"dataframe\">\n",
       "  <thead>\n",
       "    <tr style=\"text-align: right;\">\n",
       "      <th></th>\n",
       "      <th>Frequency</th>\n",
       "      <th>Monetary_value</th>\n",
       "      <th>Recency</th>\n",
       "      <th>R_rank</th>\n",
       "      <th>F_rank</th>\n",
       "      <th>M_rank</th>\n",
       "      <th>R_rank_norm</th>\n",
       "      <th>F_rank_norm</th>\n",
       "      <th>M_rank_norm</th>\n",
       "      <th>RFM_Score</th>\n",
       "    </tr>\n",
       "  </thead>\n",
       "  <tbody>\n",
       "    <tr>\n",
       "      <th>count</th>\n",
       "      <td>93396.000000</td>\n",
       "      <td>93396.000000</td>\n",
       "      <td>93396.000000</td>\n",
       "      <td>93396.000000</td>\n",
       "      <td>93396.000000</td>\n",
       "      <td>93396.000000</td>\n",
       "      <td>93396.000000</td>\n",
       "      <td>93396.000000</td>\n",
       "      <td>93396.000000</td>\n",
       "      <td>93396.000000</td>\n",
       "    </tr>\n",
       "    <tr>\n",
       "      <th>mean</th>\n",
       "      <td>1.035569</td>\n",
       "      <td>158.586717</td>\n",
       "      <td>238.918605</td>\n",
       "      <td>46698.500782</td>\n",
       "      <td>46698.513352</td>\n",
       "      <td>46698.496777</td>\n",
       "      <td>0.500632</td>\n",
       "      <td>0.031854</td>\n",
       "      <td>0.031854</td>\n",
       "      <td>2.499657</td>\n",
       "    </tr>\n",
       "    <tr>\n",
       "      <th>std</th>\n",
       "      <td>0.216802</td>\n",
       "      <td>217.641799</td>\n",
       "      <td>153.395032</td>\n",
       "      <td>26961.147447</td>\n",
       "      <td>8201.096920</td>\n",
       "      <td>26961.250814</td>\n",
       "      <td>0.500002</td>\n",
       "      <td>0.175611</td>\n",
       "      <td>0.175611</td>\n",
       "      <td>0.601415</td>\n",
       "    </tr>\n",
       "    <tr>\n",
       "      <th>min</th>\n",
       "      <td>1.000000</td>\n",
       "      <td>0.000000</td>\n",
       "      <td>0.000000</td>\n",
       "      <td>1.000000</td>\n",
       "      <td>45211.000000</td>\n",
       "      <td>1.000000</td>\n",
       "      <td>0.000000</td>\n",
       "      <td>0.000000</td>\n",
       "      <td>0.000000</td>\n",
       "      <td>1.000000</td>\n",
       "    </tr>\n",
       "    <tr>\n",
       "      <th>25%</th>\n",
       "      <td>1.000000</td>\n",
       "      <td>61.000000</td>\n",
       "      <td>114.000000</td>\n",
       "      <td>23304.000000</td>\n",
       "      <td>45211.000000</td>\n",
       "      <td>23355.000000</td>\n",
       "      <td>0.000000</td>\n",
       "      <td>0.000000</td>\n",
       "      <td>0.000000</td>\n",
       "      <td>2.000000</td>\n",
       "    </tr>\n",
       "    <tr>\n",
       "      <th>50%</th>\n",
       "      <td>1.000000</td>\n",
       "      <td>104.000000</td>\n",
       "      <td>219.000000</td>\n",
       "      <td>46782.000000</td>\n",
       "      <td>45211.000000</td>\n",
       "      <td>46676.000000</td>\n",
       "      <td>1.000000</td>\n",
       "      <td>0.000000</td>\n",
       "      <td>0.000000</td>\n",
       "      <td>2.000000</td>\n",
       "    </tr>\n",
       "    <tr>\n",
       "      <th>75%</th>\n",
       "      <td>1.000000</td>\n",
       "      <td>176.000000</td>\n",
       "      <td>349.000000</td>\n",
       "      <td>70195.000000</td>\n",
       "      <td>45211.000000</td>\n",
       "      <td>70046.500000</td>\n",
       "      <td>1.000000</td>\n",
       "      <td>0.000000</td>\n",
       "      <td>0.000000</td>\n",
       "      <td>3.000000</td>\n",
       "    </tr>\n",
       "    <tr>\n",
       "      <th>max</th>\n",
       "      <td>17.000000</td>\n",
       "      <td>13664.000000</td>\n",
       "      <td>724.000000</td>\n",
       "      <td>93391.000000</td>\n",
       "      <td>93396.000000</td>\n",
       "      <td>93396.000000</td>\n",
       "      <td>1.000000</td>\n",
       "      <td>1.000000</td>\n",
       "      <td>1.000000</td>\n",
       "      <td>5.000000</td>\n",
       "    </tr>\n",
       "  </tbody>\n",
       "</table>\n",
       "</div>"
      ],
      "text/plain": [
       "          Frequency  Monetary_value       Recency        R_rank        F_rank  \\\n",
       "count  93396.000000    93396.000000  93396.000000  93396.000000  93396.000000   \n",
       "mean       1.035569      158.586717    238.918605  46698.500782  46698.513352   \n",
       "std        0.216802      217.641799    153.395032  26961.147447   8201.096920   \n",
       "min        1.000000        0.000000      0.000000      1.000000  45211.000000   \n",
       "25%        1.000000       61.000000    114.000000  23304.000000  45211.000000   \n",
       "50%        1.000000      104.000000    219.000000  46782.000000  45211.000000   \n",
       "75%        1.000000      176.000000    349.000000  70195.000000  45211.000000   \n",
       "max       17.000000    13664.000000    724.000000  93391.000000  93396.000000   \n",
       "\n",
       "             M_rank   R_rank_norm   F_rank_norm   M_rank_norm     RFM_Score  \n",
       "count  93396.000000  93396.000000  93396.000000  93396.000000  93396.000000  \n",
       "mean   46698.496777      0.500632      0.031854      0.031854      2.499657  \n",
       "std    26961.250814      0.500002      0.175611      0.175611      0.601415  \n",
       "min        1.000000      0.000000      0.000000      0.000000      1.000000  \n",
       "25%    23355.000000      0.000000      0.000000      0.000000      2.000000  \n",
       "50%    46676.000000      1.000000      0.000000      0.000000      2.000000  \n",
       "75%    70046.500000      1.000000      0.000000      0.000000      3.000000  \n",
       "max    93396.000000      1.000000      1.000000      1.000000      5.000000  "
      ]
     },
     "execution_count": 16,
     "metadata": {},
     "output_type": "execute_result"
    }
   ],
   "source": [
    "rfm_df_heuristic_method.describe()"
   ]
  },
  {
   "cell_type": "code",
   "execution_count": 17,
   "metadata": {},
   "outputs": [],
   "source": [
    "rfm_df_heuristic_method = rfm_df_heuristic_method.drop(columns=['R_rank', 'F_rank', 'M_rank', 'R_rank_norm', 'F_rank_norm', 'M_rank_norm'])\n",
    "# rfm_df.describe()"
   ]
  },
  {
   "cell_type": "code",
   "execution_count": 18,
   "metadata": {},
   "outputs": [
    {
     "data": {
      "text/html": [
       "<div>\n",
       "<style scoped>\n",
       "    .dataframe tbody tr th:only-of-type {\n",
       "        vertical-align: middle;\n",
       "    }\n",
       "\n",
       "    .dataframe tbody tr th {\n",
       "        vertical-align: top;\n",
       "    }\n",
       "\n",
       "    .dataframe thead th {\n",
       "        text-align: right;\n",
       "    }\n",
       "</style>\n",
       "<table border=\"1\" class=\"dataframe\">\n",
       "  <thead>\n",
       "    <tr style=\"text-align: right;\">\n",
       "      <th></th>\n",
       "      <th>customer_unique_id</th>\n",
       "      <th>Frequency</th>\n",
       "      <th>Monetary_value</th>\n",
       "      <th>Recency</th>\n",
       "      <th>RFM_Score</th>\n",
       "      <th>Customer_segment</th>\n",
       "    </tr>\n",
       "  </thead>\n",
       "  <tbody>\n",
       "    <tr>\n",
       "      <th>0</th>\n",
       "      <td>0000366f3b9a7992bf8c76cfdf3221e2</td>\n",
       "      <td>1.0</td>\n",
       "      <td>142.0</td>\n",
       "      <td>111</td>\n",
       "      <td>3.0</td>\n",
       "      <td>Medium value customer</td>\n",
       "    </tr>\n",
       "    <tr>\n",
       "      <th>1</th>\n",
       "      <td>0000b849f77a49e4a4ce2b2a4ca5be3f</td>\n",
       "      <td>1.0</td>\n",
       "      <td>27.0</td>\n",
       "      <td>114</td>\n",
       "      <td>3.0</td>\n",
       "      <td>Medium value customer</td>\n",
       "    </tr>\n",
       "    <tr>\n",
       "      <th>2</th>\n",
       "      <td>0000f46a3911fa3c0805444483337064</td>\n",
       "      <td>1.0</td>\n",
       "      <td>86.0</td>\n",
       "      <td>537</td>\n",
       "      <td>2.0</td>\n",
       "      <td>Low value customer</td>\n",
       "    </tr>\n",
       "    <tr>\n",
       "      <th>3</th>\n",
       "      <td>0000f6ccb0745a6a4b88665a16c9f078</td>\n",
       "      <td>1.0</td>\n",
       "      <td>44.0</td>\n",
       "      <td>321</td>\n",
       "      <td>2.0</td>\n",
       "      <td>Low value customer</td>\n",
       "    </tr>\n",
       "    <tr>\n",
       "      <th>4</th>\n",
       "      <td>0004aac84e0df4da2b147fca70cf8255</td>\n",
       "      <td>1.0</td>\n",
       "      <td>197.0</td>\n",
       "      <td>288</td>\n",
       "      <td>2.0</td>\n",
       "      <td>Low value customer</td>\n",
       "    </tr>\n",
       "  </tbody>\n",
       "</table>\n",
       "</div>"
      ],
      "text/plain": [
       "                 customer_unique_id  Frequency  Monetary_value  Recency  \\\n",
       "0  0000366f3b9a7992bf8c76cfdf3221e2        1.0           142.0      111   \n",
       "1  0000b849f77a49e4a4ce2b2a4ca5be3f        1.0            27.0      114   \n",
       "2  0000f46a3911fa3c0805444483337064        1.0            86.0      537   \n",
       "3  0000f6ccb0745a6a4b88665a16c9f078        1.0            44.0      321   \n",
       "4  0004aac84e0df4da2b147fca70cf8255        1.0           197.0      288   \n",
       "\n",
       "   RFM_Score       Customer_segment  \n",
       "0        3.0  Medium value customer  \n",
       "1        3.0  Medium value customer  \n",
       "2        2.0     Low value customer  \n",
       "3        2.0     Low value customer  \n",
       "4        2.0     Low value customer  "
      ]
     },
     "execution_count": 18,
     "metadata": {},
     "output_type": "execute_result"
    }
   ],
   "source": [
    "rfm_df_heuristic_method[\"Customer_segment\"] = np.where(rfm_df_heuristic_method['RFM_Score'] == 5, \"Top customer\",\n",
    "                            (np.where(rfm_df_heuristic_method['RFM_Score'] == 4, \"High value customer\",\n",
    "                            (np.where(rfm_df_heuristic_method['RFM_Score'] == 3, \"Medium value customer\",\n",
    "                             np.where(rfm_df_heuristic_method['RFM_Score'] > 1.5, 'Low value customer', 'Lost customer'))))))\n",
    "rfm_df_heuristic_method.head()"
   ]
  },
  {
   "cell_type": "markdown",
   "metadata": {},
   "source": [
    "* RFM Score = 5: Top customer\n",
    "* RMF Score = 4: High value customer\n",
    "* RMF Score = 3: Medium value customer\n",
    "* RMF Score = 2: Low-value customer\n",
    "* RMF Score = 1: Lost customer"
   ]
  },
  {
   "cell_type": "markdown",
   "metadata": {},
   "source": [
    "#### Visualizing the customer segments"
   ]
  },
  {
   "cell_type": "markdown",
   "metadata": {},
   "source": [
    "We will use a pie plot to display all segments of customers."
   ]
  },
  {
   "cell_type": "code",
   "execution_count": 19,
   "metadata": {},
   "outputs": [
    {
     "data": {
      "image/png": "[encoded data removed]",
      "text/plain": [
       "<Figure size 504x504 with 1 Axes>"
      ]
     },
     "metadata": {},
     "output_type": "display_data"
    }
   ],
   "source": [
    "plt.subplots(figsize=(7,7))\n",
    "plt.pie(rfm_df_heuristic_method.Customer_segment.value_counts(), labels=rfm_df_heuristic_method.Customer_segment.value_counts().index, autopct='%.0f%%')\n",
    "plt.show()"
   ]
  },
  {
   "cell_type": "markdown",
   "metadata": {},
   "source": [
    "### RFM quintiles method"
   ]
  },
  {
   "cell_type": "code",
   "execution_count": 20,
   "metadata": {},
   "outputs": [],
   "source": [
    "rfm_df_quintiles_method =  rfm_df.copy()"
   ]
  },
  {
   "cell_type": "code",
   "execution_count": 21,
   "metadata": {},
   "outputs": [
    {
     "data": {
      "text/html": [
       "<div>\n",
       "<style scoped>\n",
       "    .dataframe tbody tr th:only-of-type {\n",
       "        vertical-align: middle;\n",
       "    }\n",
       "\n",
       "    .dataframe tbody tr th {\n",
       "        vertical-align: top;\n",
       "    }\n",
       "\n",
       "    .dataframe thead th {\n",
       "        text-align: right;\n",
       "    }\n",
       "</style>\n",
       "<table border=\"1\" class=\"dataframe\">\n",
       "  <thead>\n",
       "    <tr style=\"text-align: right;\">\n",
       "      <th></th>\n",
       "      <th>customer_unique_id</th>\n",
       "      <th>Frequency</th>\n",
       "      <th>Monetary_value</th>\n",
       "      <th>Recency</th>\n",
       "    </tr>\n",
       "  </thead>\n",
       "  <tbody>\n",
       "    <tr>\n",
       "      <th>0</th>\n",
       "      <td>0000366f3b9a7992bf8c76cfdf3221e2</td>\n",
       "      <td>1.0</td>\n",
       "      <td>141.90</td>\n",
       "      <td>111</td>\n",
       "    </tr>\n",
       "    <tr>\n",
       "      <th>1</th>\n",
       "      <td>0000b849f77a49e4a4ce2b2a4ca5be3f</td>\n",
       "      <td>1.0</td>\n",
       "      <td>27.19</td>\n",
       "      <td>114</td>\n",
       "    </tr>\n",
       "    <tr>\n",
       "      <th>2</th>\n",
       "      <td>0000f46a3911fa3c0805444483337064</td>\n",
       "      <td>1.0</td>\n",
       "      <td>86.22</td>\n",
       "      <td>537</td>\n",
       "    </tr>\n",
       "    <tr>\n",
       "      <th>3</th>\n",
       "      <td>0000f6ccb0745a6a4b88665a16c9f078</td>\n",
       "      <td>1.0</td>\n",
       "      <td>43.62</td>\n",
       "      <td>321</td>\n",
       "    </tr>\n",
       "    <tr>\n",
       "      <th>4</th>\n",
       "      <td>0004aac84e0df4da2b147fca70cf8255</td>\n",
       "      <td>1.0</td>\n",
       "      <td>196.89</td>\n",
       "      <td>288</td>\n",
       "    </tr>\n",
       "  </tbody>\n",
       "</table>\n",
       "</div>"
      ],
      "text/plain": [
       "                 customer_unique_id  Frequency  Monetary_value  Recency\n",
       "0  0000366f3b9a7992bf8c76cfdf3221e2        1.0          141.90      111\n",
       "1  0000b849f77a49e4a4ce2b2a4ca5be3f        1.0           27.19      114\n",
       "2  0000f46a3911fa3c0805444483337064        1.0           86.22      537\n",
       "3  0000f6ccb0745a6a4b88665a16c9f078        1.0           43.62      321\n",
       "4  0004aac84e0df4da2b147fca70cf8255        1.0          196.89      288"
      ]
     },
     "execution_count": 21,
     "metadata": {},
     "output_type": "execute_result"
    }
   ],
   "source": [
    "rfm_df_quintiles_method.head()"
   ]
  },
  {
   "cell_type": "markdown",
   "metadata": {},
   "source": [
    "#### Log-transform of the data to treat skewness"
   ]
  },
  {
   "cell_type": "code",
   "execution_count": 22,
   "metadata": {},
   "outputs": [],
   "source": [
    "rfm_columns_for_log_transformation = ['Frequency',\n",
    "                                    'Monetary_value',\n",
    "                                    'Recency'\n",
    "                                    ]"
   ]
  },
  {
   "cell_type": "code",
   "execution_count": 23,
   "metadata": {},
   "outputs": [],
   "source": [
    "for col in rfm_df_quintiles_method.columns:\n",
    "    if col in rfm_columns_for_log_transformation:\n",
    "        rfm_df_quintiles_method[col] = np.log10(rfm_df_quintiles_method[col] + 0.1) "
   ]
  },
  {
   "cell_type": "code",
   "execution_count": 24,
   "metadata": {},
   "outputs": [
    {
     "data": {
      "text/html": [
       "<div>\n",
       "<style scoped>\n",
       "    .dataframe tbody tr th:only-of-type {\n",
       "        vertical-align: middle;\n",
       "    }\n",
       "\n",
       "    .dataframe tbody tr th {\n",
       "        vertical-align: top;\n",
       "    }\n",
       "\n",
       "    .dataframe thead th {\n",
       "        text-align: right;\n",
       "    }\n",
       "</style>\n",
       "<table border=\"1\" class=\"dataframe\">\n",
       "  <thead>\n",
       "    <tr style=\"text-align: right;\">\n",
       "      <th></th>\n",
       "      <th>Frequency</th>\n",
       "      <th>Monetary_value</th>\n",
       "      <th>Recency</th>\n",
       "    </tr>\n",
       "  </thead>\n",
       "  <tbody>\n",
       "    <tr>\n",
       "      <th>count</th>\n",
       "      <td>93396.000000</td>\n",
       "      <td>93396.000000</td>\n",
       "      <td>93396.000000</td>\n",
       "    </tr>\n",
       "    <tr>\n",
       "      <th>mean</th>\n",
       "      <td>0.050894</td>\n",
       "      <td>2.029864</td>\n",
       "      <td>2.239901</td>\n",
       "    </tr>\n",
       "    <tr>\n",
       "      <th>std</th>\n",
       "      <td>0.053587</td>\n",
       "      <td>0.358315</td>\n",
       "      <td>0.415957</td>\n",
       "    </tr>\n",
       "    <tr>\n",
       "      <th>min</th>\n",
       "      <td>0.041393</td>\n",
       "      <td>-0.455932</td>\n",
       "      <td>-1.000000</td>\n",
       "    </tr>\n",
       "    <tr>\n",
       "      <th>25%</th>\n",
       "      <td>0.041393</td>\n",
       "      <td>1.784261</td>\n",
       "      <td>2.057286</td>\n",
       "    </tr>\n",
       "    <tr>\n",
       "      <th>50%</th>\n",
       "      <td>0.041393</td>\n",
       "      <td>2.015569</td>\n",
       "      <td>2.340642</td>\n",
       "    </tr>\n",
       "    <tr>\n",
       "      <th>75%</th>\n",
       "      <td>0.041393</td>\n",
       "      <td>2.244704</td>\n",
       "      <td>2.542950</td>\n",
       "    </tr>\n",
       "    <tr>\n",
       "      <th>max</th>\n",
       "      <td>1.232996</td>\n",
       "      <td>4.135584</td>\n",
       "      <td>2.859799</td>\n",
       "    </tr>\n",
       "  </tbody>\n",
       "</table>\n",
       "</div>"
      ],
      "text/plain": [
       "          Frequency  Monetary_value       Recency\n",
       "count  93396.000000    93396.000000  93396.000000\n",
       "mean       0.050894        2.029864      2.239901\n",
       "std        0.053587        0.358315      0.415957\n",
       "min        0.041393       -0.455932     -1.000000\n",
       "25%        0.041393        1.784261      2.057286\n",
       "50%        0.041393        2.015569      2.340642\n",
       "75%        0.041393        2.244704      2.542950\n",
       "max        1.232996        4.135584      2.859799"
      ]
     },
     "execution_count": 24,
     "metadata": {},
     "output_type": "execute_result"
    }
   ],
   "source": [
    "rfm_df_quintiles_method.describe()"
   ]
  },
  {
   "cell_type": "code",
   "execution_count": 25,
   "metadata": {},
   "outputs": [
    {
     "data": {
      "text/plain": [
       "<AxesSubplot:xlabel='Frequency', ylabel='Count'>"
      ]
     },
     "execution_count": 25,
     "metadata": {},
     "output_type": "execute_result"
    },
    {
     "data": {
      "image/png": "[encoded data removed]",
      "text/plain": [
       "<Figure size 792x432 with 1 Axes>"
      ]
     },
     "metadata": {},
     "output_type": "display_data"
    }
   ],
   "source": [
    "sns.histplot(data=rfm_df_quintiles_method, x='Frequency')"
   ]
  },
  {
   "cell_type": "code",
   "execution_count": 26,
   "metadata": {},
   "outputs": [
    {
     "data": {
      "text/plain": [
       "<AxesSubplot:xlabel='Monetary_value', ylabel='Count'>"
      ]
     },
     "execution_count": 26,
     "metadata": {},
     "output_type": "execute_result"
    },
    {
     "data": {
      "image/png": "[encoded data removed]",
      "text/plain": [
       "<Figure size 792x432 with 1 Axes>"
      ]
     },
     "metadata": {},
     "output_type": "display_data"
    }
   ],
   "source": [
    "sns.histplot(data=rfm_df_quintiles_method, x='Monetary_value')"
   ]
  },
  {
   "cell_type": "code",
   "execution_count": 27,
   "metadata": {},
   "outputs": [
    {
     "data": {
      "text/plain": [
       "<AxesSubplot:xlabel='Recency', ylabel='Count'>"
      ]
     },
     "execution_count": 27,
     "metadata": {},
     "output_type": "execute_result"
    },
    {
     "data": {
      "image/png": "[encoded data removed]",
      "text/plain": [
       "<Figure size 792x432 with 1 Axes>"
      ]
     },
     "metadata": {},
     "output_type": "display_data"
    }
   ],
   "source": [
    "sns.histplot(data=rfm_df_quintiles_method, x='Recency')"
   ]
  },
  {
   "cell_type": "markdown",
   "metadata": {},
   "source": [
    "#### Quintile calculation "
   ]
  },
  {
   "cell_type": "markdown",
   "metadata": {},
   "source": [
    "We will calculate the quintile values for the dataframe."
   ]
  },
  {
   "cell_type": "code",
   "execution_count": 28,
   "metadata": {},
   "outputs": [
    {
     "name": "stdout",
     "output_type": "stream",
     "text": [
      "     Frequency  Monetary_value   Recency\n",
      "0.2   0.041393        1.725912  1.968950\n",
      "0.4   0.041393        1.924279  2.250664\n",
      "0.6   0.041393        2.103804  2.429914\n",
      "0.8   0.041393        2.301963  2.584444\n"
     ]
    }
   ],
   "source": [
    "quintiles = rfm_df_quintiles_method.quantile(q=[0.20, 0.40, 0.60, 0.80])\n",
    "print(quintiles)"
   ]
  },
  {
   "cell_type": "code",
   "execution_count": 29,
   "metadata": {},
   "outputs": [
    {
     "data": {
      "text/plain": [
       "{'Frequency': {0.2: 0.04139268515822508,\n",
       "  0.4: 0.04139268515822508,\n",
       "  0.6: 0.04139268515822508,\n",
       "  0.8: 0.04139268515822508},\n",
       " 'Monetary_value': {0.2: 1.7259116322950483,\n",
       "  0.4: 1.9242792860618816,\n",
       "  0.6: 2.103803720955957,\n",
       "  0.8: 2.301962726473363},\n",
       " 'Recency': {0.2: 1.9689496809813425,\n",
       "  0.4: 2.2506639194632436,\n",
       "  0.6: 2.4299136977637548,\n",
       "  0.8: 2.5844443071651764}}"
      ]
     },
     "execution_count": 29,
     "metadata": {},
     "output_type": "execute_result"
    }
   ],
   "source": [
    "quintiles = quintiles.to_dict()\n",
    "quintiles"
   ]
  },
  {
   "cell_type": "code",
   "execution_count": 30,
   "metadata": {},
   "outputs": [],
   "source": [
    "def RScore(x,p,d):\n",
    "    \"\"\"Returns the Recency score for a value relative to quintile value\"\"\"\n",
    "    if x <= d[p][0.20]:\n",
    "        return 1\n",
    "    elif x <= d[p][0.40]:\n",
    "        return 2\n",
    "    elif x <= d[p][0.60]: \n",
    "        return 3\n",
    "    elif x <= d[p][0.80]: \n",
    "        return 4\n",
    "    else:\n",
    "        return 5\n",
    "    \n",
    "def FMScore(x,p,d):\n",
    "    \"\"\"Returns the Frequency and Monetary value score for a value relative to quintile value\"\"\"\n",
    "    if x <= d[p][0.20]:\n",
    "        return 1\n",
    "    elif x <= d[p][0.40]:\n",
    "        return 2\n",
    "    elif x <= d[p][0.60]: \n",
    "        return 3\n",
    "    elif x <= d[p][0.80]: \n",
    "        return 4\n",
    "    else:\n",
    "        return 5"
   ]
  },
  {
   "cell_type": "markdown",
   "metadata": {},
   "source": [
    "We will create a dataframe with the RFM score."
   ]
  },
  {
   "cell_type": "code",
   "execution_count": 31,
   "metadata": {},
   "outputs": [
    {
     "data": {
      "text/html": [
       "<div>\n",
       "<style scoped>\n",
       "    .dataframe tbody tr th:only-of-type {\n",
       "        vertical-align: middle;\n",
       "    }\n",
       "\n",
       "    .dataframe tbody tr th {\n",
       "        vertical-align: top;\n",
       "    }\n",
       "\n",
       "    .dataframe thead th {\n",
       "        text-align: right;\n",
       "    }\n",
       "</style>\n",
       "<table border=\"1\" class=\"dataframe\">\n",
       "  <thead>\n",
       "    <tr style=\"text-align: right;\">\n",
       "      <th></th>\n",
       "      <th>customer_unique_id</th>\n",
       "      <th>Frequency</th>\n",
       "      <th>Monetary_value</th>\n",
       "      <th>Recency</th>\n",
       "      <th>R_score</th>\n",
       "      <th>F_score</th>\n",
       "      <th>M_score</th>\n",
       "      <th>RFM_Score</th>\n",
       "    </tr>\n",
       "  </thead>\n",
       "  <tbody>\n",
       "    <tr>\n",
       "      <th>0</th>\n",
       "      <td>0000366f3b9a7992bf8c76cfdf3221e2</td>\n",
       "      <td>0.041393</td>\n",
       "      <td>2.152288</td>\n",
       "      <td>2.045714</td>\n",
       "      <td>2</td>\n",
       "      <td>1</td>\n",
       "      <td>4</td>\n",
       "      <td>214</td>\n",
       "    </tr>\n",
       "    <tr>\n",
       "      <th>1</th>\n",
       "      <td>0000b849f77a49e4a4ce2b2a4ca5be3f</td>\n",
       "      <td>0.041393</td>\n",
       "      <td>1.436004</td>\n",
       "      <td>2.057286</td>\n",
       "      <td>2</td>\n",
       "      <td>1</td>\n",
       "      <td>1</td>\n",
       "      <td>211</td>\n",
       "    </tr>\n",
       "    <tr>\n",
       "      <th>2</th>\n",
       "      <td>0000f46a3911fa3c0805444483337064</td>\n",
       "      <td>0.041393</td>\n",
       "      <td>1.936111</td>\n",
       "      <td>2.730055</td>\n",
       "      <td>5</td>\n",
       "      <td>1</td>\n",
       "      <td>3</td>\n",
       "      <td>513</td>\n",
       "    </tr>\n",
       "    <tr>\n",
       "      <th>3</th>\n",
       "      <td>0000f6ccb0745a6a4b88665a16c9f078</td>\n",
       "      <td>0.041393</td>\n",
       "      <td>1.640680</td>\n",
       "      <td>2.506640</td>\n",
       "      <td>4</td>\n",
       "      <td>1</td>\n",
       "      <td>1</td>\n",
       "      <td>411</td>\n",
       "    </tr>\n",
       "    <tr>\n",
       "      <th>4</th>\n",
       "      <td>0004aac84e0df4da2b147fca70cf8255</td>\n",
       "      <td>0.041393</td>\n",
       "      <td>2.294444</td>\n",
       "      <td>2.459543</td>\n",
       "      <td>4</td>\n",
       "      <td>1</td>\n",
       "      <td>4</td>\n",
       "      <td>414</td>\n",
       "    </tr>\n",
       "  </tbody>\n",
       "</table>\n",
       "</div>"
      ],
      "text/plain": [
       "                 customer_unique_id  Frequency  Monetary_value   Recency  \\\n",
       "0  0000366f3b9a7992bf8c76cfdf3221e2   0.041393        2.152288  2.045714   \n",
       "1  0000b849f77a49e4a4ce2b2a4ca5be3f   0.041393        1.436004  2.057286   \n",
       "2  0000f46a3911fa3c0805444483337064   0.041393        1.936111  2.730055   \n",
       "3  0000f6ccb0745a6a4b88665a16c9f078   0.041393        1.640680  2.506640   \n",
       "4  0004aac84e0df4da2b147fca70cf8255   0.041393        2.294444  2.459543   \n",
       "\n",
       "   R_score  F_score  M_score RFM_Score  \n",
       "0        2        1        4       214  \n",
       "1        2        1        1       211  \n",
       "2        5        1        3       513  \n",
       "3        4        1        1       411  \n",
       "4        4        1        4       414  "
      ]
     },
     "execution_count": 31,
     "metadata": {},
     "output_type": "execute_result"
    }
   ],
   "source": [
    "rfm_df_quintiles_method['R_score'] = rfm_df_quintiles_method['Recency'].apply(RScore,\n",
    "                                                             args=('Recency',quintiles)\n",
    "                                                            )\n",
    "rfm_df_quintiles_method['F_score'] = rfm_df_quintiles_method['Frequency'].apply(FMScore,\n",
    "                                                               args=('Frequency',quintiles)\n",
    "                                                              )\n",
    "rfm_df_quintiles_method['M_score'] = rfm_df_quintiles_method['Monetary_value'].apply(FMScore,\n",
    "                                                                    args=('Monetary_value',quintiles)\n",
    "                                                                   )\n",
    "\n",
    "rfm_df_quintiles_method['RFM_Score'] = (rfm_df_quintiles_method[\"R_score\"].astype(str)).\\\n",
    "                                str.cat(rfm_df_quintiles_method[\"F_score\"].astype(str)).\\\n",
    "                                str.cat(rfm_df_quintiles_method[\"M_score\"].astype(str))\n",
    "\n",
    "rfm_df_quintiles_method.head()"
   ]
  },
  {
   "cell_type": "code",
   "execution_count": 32,
   "metadata": {},
   "outputs": [
    {
     "data": {
      "text/plain": [
       "array(['214', '211', '513', '411', '414', '315', '514', '511', '413',\n",
       "       '212', '311', '415', '111', '115', '515', '512', '313', '112',\n",
       "       '153', '114', '314', '113', '213', '412', '215', '354', '452',\n",
       "       '312', '352', '152', '552', '353', '554', '151', '454', '451',\n",
       "       '355', '555', '154', '253', '551', '251', '155', '255', '453',\n",
       "       '252', '254', '553', '351', '455'], dtype=object)"
      ]
     },
     "execution_count": 32,
     "metadata": {},
     "output_type": "execute_result"
    }
   ],
   "source": [
    "rfm_df_quintiles_method['RFM_Score'].unique()"
   ]
  },
  {
   "cell_type": "markdown",
   "metadata": {},
   "source": [
    "#### Customers segmentation"
   ]
  },
  {
   "cell_type": "markdown",
   "metadata": {},
   "source": [
    "The RFM scores give us 5^(3) = 125 segments. Which is not easy to work with. \n",
    "\n",
    "See reference: https://practicaldatascience.co.uk/data-science/how-to-visualise-rfm-data-using-treemaps\n",
    "\n",
    "We can also work on a more detailed segmentation in which we choose to create a new feature 'FM score' that is the rounded down mean of Frequency and Monetary value scores.\n",
    "\n",
    "See reference: https://medium.com/analytics-vidhya/customer-segmentation-analysis-with-rfm-using-python-and-power-bi-1a93e7938053\n",
    "\n",
    "We are going to keep 10 segments based on the Recency and Frequency scores. Here is the description of the segments:\n",
    "\n",
    "* Champions: Bought recently, buy often and spend the most.\n",
    "* Loyal Customers: Buy on a regular basis. Responsive to promotions.\n",
    "* Potential Loyalists: Recent customers with average frequency.\n",
    "* Recent Customers: Bought most recently, but not often.\n",
    "* Customers Needing Attention: Above average recency, frequency and monetary values. May not have bought very recently though.\n",
    "* At Risk: Purchased often but a long time ago. Need to bring them back.\n",
    "* Can't Lose Them: Used to purchase frequently but haven't returned for a long time.\n",
    "* About To Sleep: Below average recency and frequency. Will lose them if not reactivated.\n",
    "* Hibernating: Last purchase was long back and low number of orders.\n",
    "* Lost Customers: Purchased long time ago and never came back.\n",
    "\n",
    "See reference: https://guillaume-martin.github.io/rfm-segmentation-with-python.html"
   ]
  },
  {
   "cell_type": "code",
   "execution_count": 33,
   "metadata": {},
   "outputs": [],
   "source": [
    "rfm_new_df_quintiles_method = rfm_df_quintiles_method.copy()"
   ]
  },
  {
   "cell_type": "code",
   "execution_count": 34,
   "metadata": {},
   "outputs": [],
   "source": [
    "import math\n",
    "def truncate(x): return math.trunc(x)\n",
    "rfm_new_df_quintiles_method['FM_score'] = ((rfm_new_df_quintiles_method['F_score'] + rfm_new_df_quintiles_method['M_score'])/2).apply(lambda x: truncate(x))"
   ]
  },
  {
   "cell_type": "code",
   "execution_count": 35,
   "metadata": {},
   "outputs": [
    {
     "data": {
      "text/html": [
       "<div>\n",
       "<style scoped>\n",
       "    .dataframe tbody tr th:only-of-type {\n",
       "        vertical-align: middle;\n",
       "    }\n",
       "\n",
       "    .dataframe tbody tr th {\n",
       "        vertical-align: top;\n",
       "    }\n",
       "\n",
       "    .dataframe thead th {\n",
       "        text-align: right;\n",
       "    }\n",
       "</style>\n",
       "<table border=\"1\" class=\"dataframe\">\n",
       "  <thead>\n",
       "    <tr style=\"text-align: right;\">\n",
       "      <th></th>\n",
       "      <th>customer_unique_id</th>\n",
       "      <th>Frequency</th>\n",
       "      <th>Monetary_value</th>\n",
       "      <th>Recency</th>\n",
       "      <th>R_score</th>\n",
       "      <th>F_score</th>\n",
       "      <th>M_score</th>\n",
       "      <th>RFM_Score</th>\n",
       "      <th>FM_score</th>\n",
       "    </tr>\n",
       "  </thead>\n",
       "  <tbody>\n",
       "    <tr>\n",
       "      <th>0</th>\n",
       "      <td>0000366f3b9a7992bf8c76cfdf3221e2</td>\n",
       "      <td>0.041393</td>\n",
       "      <td>2.152288</td>\n",
       "      <td>2.045714</td>\n",
       "      <td>2</td>\n",
       "      <td>1</td>\n",
       "      <td>4</td>\n",
       "      <td>214</td>\n",
       "      <td>2</td>\n",
       "    </tr>\n",
       "    <tr>\n",
       "      <th>1</th>\n",
       "      <td>0000b849f77a49e4a4ce2b2a4ca5be3f</td>\n",
       "      <td>0.041393</td>\n",
       "      <td>1.436004</td>\n",
       "      <td>2.057286</td>\n",
       "      <td>2</td>\n",
       "      <td>1</td>\n",
       "      <td>1</td>\n",
       "      <td>211</td>\n",
       "      <td>1</td>\n",
       "    </tr>\n",
       "    <tr>\n",
       "      <th>2</th>\n",
       "      <td>0000f46a3911fa3c0805444483337064</td>\n",
       "      <td>0.041393</td>\n",
       "      <td>1.936111</td>\n",
       "      <td>2.730055</td>\n",
       "      <td>5</td>\n",
       "      <td>1</td>\n",
       "      <td>3</td>\n",
       "      <td>513</td>\n",
       "      <td>2</td>\n",
       "    </tr>\n",
       "    <tr>\n",
       "      <th>3</th>\n",
       "      <td>0000f6ccb0745a6a4b88665a16c9f078</td>\n",
       "      <td>0.041393</td>\n",
       "      <td>1.640680</td>\n",
       "      <td>2.506640</td>\n",
       "      <td>4</td>\n",
       "      <td>1</td>\n",
       "      <td>1</td>\n",
       "      <td>411</td>\n",
       "      <td>1</td>\n",
       "    </tr>\n",
       "    <tr>\n",
       "      <th>4</th>\n",
       "      <td>0004aac84e0df4da2b147fca70cf8255</td>\n",
       "      <td>0.041393</td>\n",
       "      <td>2.294444</td>\n",
       "      <td>2.459543</td>\n",
       "      <td>4</td>\n",
       "      <td>1</td>\n",
       "      <td>4</td>\n",
       "      <td>414</td>\n",
       "      <td>2</td>\n",
       "    </tr>\n",
       "  </tbody>\n",
       "</table>\n",
       "</div>"
      ],
      "text/plain": [
       "                 customer_unique_id  Frequency  Monetary_value   Recency  \\\n",
       "0  0000366f3b9a7992bf8c76cfdf3221e2   0.041393        2.152288  2.045714   \n",
       "1  0000b849f77a49e4a4ce2b2a4ca5be3f   0.041393        1.436004  2.057286   \n",
       "2  0000f46a3911fa3c0805444483337064   0.041393        1.936111  2.730055   \n",
       "3  0000f6ccb0745a6a4b88665a16c9f078   0.041393        1.640680  2.506640   \n",
       "4  0004aac84e0df4da2b147fca70cf8255   0.041393        2.294444  2.459543   \n",
       "\n",
       "   R_score  F_score  M_score RFM_Score  FM_score  \n",
       "0        2        1        4       214         2  \n",
       "1        2        1        1       211         1  \n",
       "2        5        1        3       513         2  \n",
       "3        4        1        1       411         1  \n",
       "4        4        1        4       414         2  "
      ]
     },
     "execution_count": 35,
     "metadata": {},
     "output_type": "execute_result"
    }
   ],
   "source": [
    "rfm_new_df_quintiles_method.head()"
   ]
  },
  {
   "cell_type": "code",
   "execution_count": 36,
   "metadata": {},
   "outputs": [
    {
     "data": {
      "text/html": [
       "<div>\n",
       "<style scoped>\n",
       "    .dataframe tbody tr th:only-of-type {\n",
       "        vertical-align: middle;\n",
       "    }\n",
       "\n",
       "    .dataframe tbody tr th {\n",
       "        vertical-align: top;\n",
       "    }\n",
       "\n",
       "    .dataframe thead th {\n",
       "        text-align: right;\n",
       "    }\n",
       "</style>\n",
       "<table border=\"1\" class=\"dataframe\">\n",
       "  <thead>\n",
       "    <tr style=\"text-align: right;\">\n",
       "      <th></th>\n",
       "      <th>Frequency</th>\n",
       "      <th>Monetary_value</th>\n",
       "      <th>Recency</th>\n",
       "      <th>R_score</th>\n",
       "      <th>F_score</th>\n",
       "      <th>M_score</th>\n",
       "      <th>FM_score</th>\n",
       "    </tr>\n",
       "  </thead>\n",
       "  <tbody>\n",
       "    <tr>\n",
       "      <th>count</th>\n",
       "      <td>93396.000000</td>\n",
       "      <td>93396.000000</td>\n",
       "      <td>93396.000000</td>\n",
       "      <td>93396.000000</td>\n",
       "      <td>93396.000000</td>\n",
       "      <td>93396.000000</td>\n",
       "      <td>93396.000000</td>\n",
       "    </tr>\n",
       "    <tr>\n",
       "      <th>mean</th>\n",
       "      <td>0.050894</td>\n",
       "      <td>2.029864</td>\n",
       "      <td>2.239901</td>\n",
       "      <td>2.995193</td>\n",
       "      <td>1.127414</td>\n",
       "      <td>2.999700</td>\n",
       "      <td>1.863592</td>\n",
       "    </tr>\n",
       "    <tr>\n",
       "      <th>std</th>\n",
       "      <td>0.053587</td>\n",
       "      <td>0.358315</td>\n",
       "      <td>0.415957</td>\n",
       "      <td>1.415987</td>\n",
       "      <td>0.702445</td>\n",
       "      <td>1.414085</td>\n",
       "      <td>0.829525</td>\n",
       "    </tr>\n",
       "    <tr>\n",
       "      <th>min</th>\n",
       "      <td>0.041393</td>\n",
       "      <td>-0.455932</td>\n",
       "      <td>-1.000000</td>\n",
       "      <td>1.000000</td>\n",
       "      <td>1.000000</td>\n",
       "      <td>1.000000</td>\n",
       "      <td>1.000000</td>\n",
       "    </tr>\n",
       "    <tr>\n",
       "      <th>25%</th>\n",
       "      <td>0.041393</td>\n",
       "      <td>1.784261</td>\n",
       "      <td>2.057286</td>\n",
       "      <td>2.000000</td>\n",
       "      <td>1.000000</td>\n",
       "      <td>2.000000</td>\n",
       "      <td>1.000000</td>\n",
       "    </tr>\n",
       "    <tr>\n",
       "      <th>50%</th>\n",
       "      <td>0.041393</td>\n",
       "      <td>2.015569</td>\n",
       "      <td>2.340642</td>\n",
       "      <td>3.000000</td>\n",
       "      <td>1.000000</td>\n",
       "      <td>3.000000</td>\n",
       "      <td>2.000000</td>\n",
       "    </tr>\n",
       "    <tr>\n",
       "      <th>75%</th>\n",
       "      <td>0.041393</td>\n",
       "      <td>2.244704</td>\n",
       "      <td>2.542950</td>\n",
       "      <td>4.000000</td>\n",
       "      <td>1.000000</td>\n",
       "      <td>4.000000</td>\n",
       "      <td>2.000000</td>\n",
       "    </tr>\n",
       "    <tr>\n",
       "      <th>max</th>\n",
       "      <td>1.232996</td>\n",
       "      <td>4.135584</td>\n",
       "      <td>2.859799</td>\n",
       "      <td>5.000000</td>\n",
       "      <td>5.000000</td>\n",
       "      <td>5.000000</td>\n",
       "      <td>5.000000</td>\n",
       "    </tr>\n",
       "  </tbody>\n",
       "</table>\n",
       "</div>"
      ],
      "text/plain": [
       "          Frequency  Monetary_value       Recency       R_score       F_score  \\\n",
       "count  93396.000000    93396.000000  93396.000000  93396.000000  93396.000000   \n",
       "mean       0.050894        2.029864      2.239901      2.995193      1.127414   \n",
       "std        0.053587        0.358315      0.415957      1.415987      0.702445   \n",
       "min        0.041393       -0.455932     -1.000000      1.000000      1.000000   \n",
       "25%        0.041393        1.784261      2.057286      2.000000      1.000000   \n",
       "50%        0.041393        2.015569      2.340642      3.000000      1.000000   \n",
       "75%        0.041393        2.244704      2.542950      4.000000      1.000000   \n",
       "max        1.232996        4.135584      2.859799      5.000000      5.000000   \n",
       "\n",
       "            M_score      FM_score  \n",
       "count  93396.000000  93396.000000  \n",
       "mean       2.999700      1.863592  \n",
       "std        1.414085      0.829525  \n",
       "min        1.000000      1.000000  \n",
       "25%        2.000000      1.000000  \n",
       "50%        3.000000      2.000000  \n",
       "75%        4.000000      2.000000  \n",
       "max        5.000000      5.000000  "
      ]
     },
     "execution_count": 36,
     "metadata": {},
     "output_type": "execute_result"
    }
   ],
   "source": [
    "rfm_new_df_quintiles_method.describe()"
   ]
  },
  {
   "cell_type": "code",
   "execution_count": 37,
   "metadata": {},
   "outputs": [
    {
     "data": {
      "text/html": [
       "<div>\n",
       "<style scoped>\n",
       "    .dataframe tbody tr th:only-of-type {\n",
       "        vertical-align: middle;\n",
       "    }\n",
       "\n",
       "    .dataframe tbody tr th {\n",
       "        vertical-align: top;\n",
       "    }\n",
       "\n",
       "    .dataframe thead th {\n",
       "        text-align: right;\n",
       "    }\n",
       "</style>\n",
       "<table border=\"1\" class=\"dataframe\">\n",
       "  <thead>\n",
       "    <tr style=\"text-align: right;\">\n",
       "      <th></th>\n",
       "      <th>customer_unique_id</th>\n",
       "      <th>Frequency</th>\n",
       "      <th>Monetary_value</th>\n",
       "      <th>Recency</th>\n",
       "      <th>R_score</th>\n",
       "      <th>F_score</th>\n",
       "      <th>M_score</th>\n",
       "      <th>RFM_Score</th>\n",
       "      <th>FM_score</th>\n",
       "      <th>Segment_name</th>\n",
       "    </tr>\n",
       "  </thead>\n",
       "  <tbody>\n",
       "    <tr>\n",
       "      <th>0</th>\n",
       "      <td>0000366f3b9a7992bf8c76cfdf3221e2</td>\n",
       "      <td>0.041393</td>\n",
       "      <td>2.152288</td>\n",
       "      <td>2.045714</td>\n",
       "      <td>2</td>\n",
       "      <td>1</td>\n",
       "      <td>4</td>\n",
       "      <td>214</td>\n",
       "      <td>2</td>\n",
       "      <td>About To Sleep</td>\n",
       "    </tr>\n",
       "    <tr>\n",
       "      <th>1</th>\n",
       "      <td>0000b849f77a49e4a4ce2b2a4ca5be3f</td>\n",
       "      <td>0.041393</td>\n",
       "      <td>1.436004</td>\n",
       "      <td>2.057286</td>\n",
       "      <td>2</td>\n",
       "      <td>1</td>\n",
       "      <td>1</td>\n",
       "      <td>211</td>\n",
       "      <td>1</td>\n",
       "      <td>About To Sleep</td>\n",
       "    </tr>\n",
       "    <tr>\n",
       "      <th>2</th>\n",
       "      <td>0000f46a3911fa3c0805444483337064</td>\n",
       "      <td>0.041393</td>\n",
       "      <td>1.936111</td>\n",
       "      <td>2.730055</td>\n",
       "      <td>5</td>\n",
       "      <td>1</td>\n",
       "      <td>3</td>\n",
       "      <td>513</td>\n",
       "      <td>2</td>\n",
       "      <td>Recent customers</td>\n",
       "    </tr>\n",
       "    <tr>\n",
       "      <th>3</th>\n",
       "      <td>0000f6ccb0745a6a4b88665a16c9f078</td>\n",
       "      <td>0.041393</td>\n",
       "      <td>1.640680</td>\n",
       "      <td>2.506640</td>\n",
       "      <td>4</td>\n",
       "      <td>1</td>\n",
       "      <td>1</td>\n",
       "      <td>411</td>\n",
       "      <td>1</td>\n",
       "      <td>Recent customers</td>\n",
       "    </tr>\n",
       "    <tr>\n",
       "      <th>4</th>\n",
       "      <td>0004aac84e0df4da2b147fca70cf8255</td>\n",
       "      <td>0.041393</td>\n",
       "      <td>2.294444</td>\n",
       "      <td>2.459543</td>\n",
       "      <td>4</td>\n",
       "      <td>1</td>\n",
       "      <td>4</td>\n",
       "      <td>414</td>\n",
       "      <td>2</td>\n",
       "      <td>Recent customers</td>\n",
       "    </tr>\n",
       "  </tbody>\n",
       "</table>\n",
       "</div>"
      ],
      "text/plain": [
       "                 customer_unique_id  Frequency  Monetary_value   Recency  \\\n",
       "0  0000366f3b9a7992bf8c76cfdf3221e2   0.041393        2.152288  2.045714   \n",
       "1  0000b849f77a49e4a4ce2b2a4ca5be3f   0.041393        1.436004  2.057286   \n",
       "2  0000f46a3911fa3c0805444483337064   0.041393        1.936111  2.730055   \n",
       "3  0000f6ccb0745a6a4b88665a16c9f078   0.041393        1.640680  2.506640   \n",
       "4  0004aac84e0df4da2b147fca70cf8255   0.041393        2.294444  2.459543   \n",
       "\n",
       "   R_score  F_score  M_score RFM_Score  FM_score      Segment_name  \n",
       "0        2        1        4       214         2    About To Sleep  \n",
       "1        2        1        1       211         1    About To Sleep  \n",
       "2        5        1        3       513         2  Recent customers  \n",
       "3        4        1        1       411         1  Recent customers  \n",
       "4        4        1        4       414         2  Recent customers  "
      ]
     },
     "execution_count": 37,
     "metadata": {},
     "output_type": "execute_result"
    }
   ],
   "source": [
    "segt_map = {\n",
    "    # 'R, FM'\n",
    "    r'11': 'Lost Customers', # Purchased long time ago and never came back.\n",
    "    r'12': 'Hibernating', # Last purchase was long back and low number of orders.\n",
    "    r'2[1-2]': 'About To Sleep', # Below average recency and frequency. Will lose them if not reactivated.\n",
    "    r'[1-2][1-4]': 'Can\\'t Loose Them', # Used to purchase frequently but haven't returned for a long time.\n",
    "    r'[1-2]5': 'At Risk', # Purchased often but a long time ago. Need to bring them back.\n",
    "    r'[1-3][3-5]': 'Customers Needing Attention', # Above average recency, frequency and monetary values. May not have bought very recently though.\n",
    "    r'[3-5][1-2]': 'Recent customers', # Bought most recently, but not often.\n",
    "    r'[4-5][2-3]': 'Potential Loyalists', # Recent customers with average frequency.\n",
    "    r'[4-5][4-5]': 'Loyal Customers', # Buy on a regular basis. Responsive to promotions.\n",
    "    r'55': 'Champions' # Bought recently, buy often and spend the most.\n",
    "}\n",
    "\n",
    "rfm_new_df_quintiles_method['Segment_name'] = rfm_new_df_quintiles_method['R_score'].map(str) + rfm_new_df_quintiles_method['FM_score'].map(str)\n",
    "rfm_new_df_quintiles_method['Segment_name'] = rfm_new_df_quintiles_method['Segment_name'].replace(segt_map, regex=True)\n",
    "rfm_new_df_quintiles_method.head()"
   ]
  },
  {
   "cell_type": "code",
   "execution_count": 38,
   "metadata": {},
   "outputs": [
    {
     "data": {
      "text/plain": [
       "<AxesSubplot:xlabel='count', ylabel='Segment_name'>"
      ]
     },
     "execution_count": 38,
     "metadata": {},
     "output_type": "execute_result"
    },
    {
     "data": {
      "image/png": "[encoded data removed]",
      "text/plain": [
       "<Figure size 432x504 with 1 Axes>"
      ]
     },
     "metadata": {},
     "output_type": "display_data"
    }
   ],
   "source": [
    "plt.subplots(figsize=(6, 7))\n",
    "sns.countplot(y=\"Segment_name\", data=rfm_new_df_quintiles_method, color=\"blue\")"
   ]
  },
  {
   "cell_type": "code",
   "execution_count": 39,
   "metadata": {},
   "outputs": [],
   "source": [
    "df_treemap_new = rfm_new_df_quintiles_method.groupby('Segment_name').agg(customers=('customer_unique_id', 'count')).reset_index()"
   ]
  },
  {
   "cell_type": "code",
   "execution_count": 40,
   "metadata": {},
   "outputs": [
    {
     "data": {
      "text/html": [
       "<div>\n",
       "<style scoped>\n",
       "    .dataframe tbody tr th:only-of-type {\n",
       "        vertical-align: middle;\n",
       "    }\n",
       "\n",
       "    .dataframe tbody tr th {\n",
       "        vertical-align: top;\n",
       "    }\n",
       "\n",
       "    .dataframe thead th {\n",
       "        text-align: right;\n",
       "    }\n",
       "</style>\n",
       "<table border=\"1\" class=\"dataframe\">\n",
       "  <thead>\n",
       "    <tr style=\"text-align: right;\">\n",
       "      <th></th>\n",
       "      <th>Segment_name</th>\n",
       "      <th>customers</th>\n",
       "    </tr>\n",
       "  </thead>\n",
       "  <tbody>\n",
       "    <tr>\n",
       "      <th>0</th>\n",
       "      <td>About To Sleep</td>\n",
       "      <td>14543</td>\n",
       "    </tr>\n",
       "    <tr>\n",
       "      <th>1</th>\n",
       "      <td>At Risk</td>\n",
       "      <td>199</td>\n",
       "    </tr>\n",
       "    <tr>\n",
       "      <th>2</th>\n",
       "      <td>Can't Loose Them</td>\n",
       "      <td>8219</td>\n",
       "    </tr>\n",
       "    <tr>\n",
       "      <th>3</th>\n",
       "      <td>Customers Needing Attention</td>\n",
       "      <td>4062</td>\n",
       "    </tr>\n",
       "    <tr>\n",
       "      <th>4</th>\n",
       "      <td>Hibernating</td>\n",
       "      <td>7484</td>\n",
       "    </tr>\n",
       "  </tbody>\n",
       "</table>\n",
       "</div>"
      ],
      "text/plain": [
       "                  Segment_name  customers\n",
       "0               About To Sleep      14543\n",
       "1                      At Risk        199\n",
       "2             Can't Loose Them       8219\n",
       "3  Customers Needing Attention       4062\n",
       "4                  Hibernating       7484"
      ]
     },
     "execution_count": 40,
     "metadata": {},
     "output_type": "execute_result"
    }
   ],
   "source": [
    "df_treemap_new.head()"
   ]
  },
  {
   "cell_type": "code",
   "execution_count": 41,
   "metadata": {},
   "outputs": [
    {
     "data": {
      "image/png": "[encoded data removed]",
      "text/plain": [
       "<Figure size 720x504 with 1 Axes>"
      ]
     },
     "metadata": {},
     "output_type": "display_data"
    }
   ],
   "source": [
    "import squarify\n",
    "fig, ax = plt.subplots(1, figsize = (10,7))\n",
    "\n",
    "squarify.plot(sizes=df_treemap_new['customers'], \n",
    "                label=[\"Lost Customers\", \"Hibernating\", \"About To Sleep\", \"Can\\'t Loose Them\", \"At Risk\",\n",
    "                        \"Customers Needing Attention\", \"Recent customers\", \"Potential Loyalists\", \"Loyal Customers\", \"Champions\"], alpha=.4,\n",
    "                color=[\"red\",\"magenta\",\"yellow\",\"purple\",\"deeppink\",\"brown\",\"cyan\",\"green\",\"blue\",\"mediumblue\"]\n",
    "             )\n",
    "plt.axis('off')\n",
    "plt.show()"
   ]
  },
  {
   "cell_type": "code",
   "execution_count": 42,
   "metadata": {},
   "outputs": [],
   "source": [
    "rfm_new_df_for_new_merge = rfm_new_df_quintiles_method.copy()"
   ]
  },
  {
   "cell_type": "code",
   "execution_count": 43,
   "metadata": {},
   "outputs": [],
   "source": [
    "rfm_new_df_for_new_merge = rfm_new_df_for_new_merge.drop(columns=['Frequency', 'Monetary_value', 'Recency', 'R_score', 'F_score', 'M_score', 'RFM_Score', 'FM_score'])"
   ]
  },
  {
   "cell_type": "code",
   "execution_count": 44,
   "metadata": {},
   "outputs": [],
   "source": [
    "rfm_new_df_for_automatic_segmentation = pd.merge(rfm_new_df_for_new_merge, rfm_df_heuristic_method, on='customer_unique_id')"
   ]
  },
  {
   "cell_type": "code",
   "execution_count": 45,
   "metadata": {},
   "outputs": [
    {
     "data": {
      "text/html": [
       "<div>\n",
       "<style scoped>\n",
       "    .dataframe tbody tr th:only-of-type {\n",
       "        vertical-align: middle;\n",
       "    }\n",
       "\n",
       "    .dataframe tbody tr th {\n",
       "        vertical-align: top;\n",
       "    }\n",
       "\n",
       "    .dataframe thead th {\n",
       "        text-align: right;\n",
       "    }\n",
       "</style>\n",
       "<table border=\"1\" class=\"dataframe\">\n",
       "  <thead>\n",
       "    <tr style=\"text-align: right;\">\n",
       "      <th></th>\n",
       "      <th>customer_unique_id</th>\n",
       "      <th>Segment_name</th>\n",
       "      <th>Frequency</th>\n",
       "      <th>Monetary_value</th>\n",
       "      <th>Recency</th>\n",
       "      <th>RFM_Score</th>\n",
       "      <th>Customer_segment</th>\n",
       "    </tr>\n",
       "  </thead>\n",
       "  <tbody>\n",
       "    <tr>\n",
       "      <th>0</th>\n",
       "      <td>0000366f3b9a7992bf8c76cfdf3221e2</td>\n",
       "      <td>About To Sleep</td>\n",
       "      <td>1.0</td>\n",
       "      <td>142.0</td>\n",
       "      <td>111</td>\n",
       "      <td>3.0</td>\n",
       "      <td>Medium value customer</td>\n",
       "    </tr>\n",
       "    <tr>\n",
       "      <th>1</th>\n",
       "      <td>0000b849f77a49e4a4ce2b2a4ca5be3f</td>\n",
       "      <td>About To Sleep</td>\n",
       "      <td>1.0</td>\n",
       "      <td>27.0</td>\n",
       "      <td>114</td>\n",
       "      <td>3.0</td>\n",
       "      <td>Medium value customer</td>\n",
       "    </tr>\n",
       "    <tr>\n",
       "      <th>2</th>\n",
       "      <td>0000f46a3911fa3c0805444483337064</td>\n",
       "      <td>Recent customers</td>\n",
       "      <td>1.0</td>\n",
       "      <td>86.0</td>\n",
       "      <td>537</td>\n",
       "      <td>2.0</td>\n",
       "      <td>Low value customer</td>\n",
       "    </tr>\n",
       "    <tr>\n",
       "      <th>3</th>\n",
       "      <td>0000f6ccb0745a6a4b88665a16c9f078</td>\n",
       "      <td>Recent customers</td>\n",
       "      <td>1.0</td>\n",
       "      <td>44.0</td>\n",
       "      <td>321</td>\n",
       "      <td>2.0</td>\n",
       "      <td>Low value customer</td>\n",
       "    </tr>\n",
       "    <tr>\n",
       "      <th>4</th>\n",
       "      <td>0004aac84e0df4da2b147fca70cf8255</td>\n",
       "      <td>Recent customers</td>\n",
       "      <td>1.0</td>\n",
       "      <td>197.0</td>\n",
       "      <td>288</td>\n",
       "      <td>2.0</td>\n",
       "      <td>Low value customer</td>\n",
       "    </tr>\n",
       "  </tbody>\n",
       "</table>\n",
       "</div>"
      ],
      "text/plain": [
       "                 customer_unique_id      Segment_name  Frequency  \\\n",
       "0  0000366f3b9a7992bf8c76cfdf3221e2    About To Sleep        1.0   \n",
       "1  0000b849f77a49e4a4ce2b2a4ca5be3f    About To Sleep        1.0   \n",
       "2  0000f46a3911fa3c0805444483337064  Recent customers        1.0   \n",
       "3  0000f6ccb0745a6a4b88665a16c9f078  Recent customers        1.0   \n",
       "4  0004aac84e0df4da2b147fca70cf8255  Recent customers        1.0   \n",
       "\n",
       "   Monetary_value  Recency  RFM_Score       Customer_segment  \n",
       "0           142.0      111        3.0  Medium value customer  \n",
       "1            27.0      114        3.0  Medium value customer  \n",
       "2            86.0      537        2.0     Low value customer  \n",
       "3            44.0      321        2.0     Low value customer  \n",
       "4           197.0      288        2.0     Low value customer  "
      ]
     },
     "execution_count": 45,
     "metadata": {},
     "output_type": "execute_result"
    }
   ],
   "source": [
    "rfm_new_df_for_automatic_segmentation.head()"
   ]
  },
  {
   "cell_type": "code",
   "execution_count": 46,
   "metadata": {},
   "outputs": [],
   "source": [
    "rfm_new_df_for_automatic_segmentation = rfm_new_df_for_automatic_segmentation.drop(columns=['Customer_segment', 'RFM_Score'])"
   ]
  },
  {
   "cell_type": "markdown",
   "metadata": {},
   "source": [
    "## Pickling dataframes"
   ]
  },
  {
   "cell_type": "code",
   "execution_count": 47,
   "metadata": {},
   "outputs": [],
   "source": [
    "# To pickle the data frame\n",
    "\n",
    "new_df_for_segmentation_analysis.to_pickle(\"./pickle_data_automatic_segmentation.pkl\")\n",
    "rfm_new_df_for_automatic_segmentation.to_pickle(\"./pickle_data_RFM_segmentation.pkl\")"
   ]
  }
 ],
 "metadata": {
  "interpreter": {
   "hash": "380030d1298d5a27518acca789ff38fe82bbf2e68b73263de6a6bf23efb7704c"
  },
  "kernelspec": {
   "display_name": "Python 3.7.11 ('base')",
   "language": "python",
   "name": "python3"
  },
  "language_info": {
   "codemirror_mode": {
    "name": "ipython",
    "version": 3
   },
   "file_extension": ".py",
   "mimetype": "text/x-python",
   "name": "python",
   "nbconvert_exporter": "python",
   "pygments_lexer": "ipython3",
   "version": "3.7.11"
  },
  "orig_nbformat": 4
 },
 "nbformat": 4,
 "nbformat_minor": 2
}
